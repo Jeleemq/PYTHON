{
  "nbformat": 4,
  "nbformat_minor": 0,
  "metadata": {
    "colab": {
      "provenance": [],
      "authorship_tag": "ABX9TyOLrgOF29QrXVOKnd2RlFYv",
      "include_colab_link": true
    },
    "kernelspec": {
      "name": "python3",
      "display_name": "Python 3"
    },
    "language_info": {
      "name": "python"
    }
  },
  "cells": [
    {
      "cell_type": "markdown",
      "metadata": {
        "id": "view-in-github",
        "colab_type": "text"
      },
      "source": [
        "<a href=\"https://colab.research.google.com/github/Jeleemq/PYTHON/blob/main/Piedra_papel_o_tijera_ipy.ipynb\" target=\"_parent\"><img src=\"https://colab.research.google.com/assets/colab-badge.svg\" alt=\"Open In Colab\"/></a>"
      ]
    },
    {
      "cell_type": "code",
      "execution_count": 1,
      "metadata": {
        "id": "jLHaQnzIRvGS",
        "colab": {
          "base_uri": "https://localhost:8080/"
        },
        "outputId": "32a5e76a-4841-4e06-8b0e-19cb8173fb77",
        "collapsed": true
      },
      "outputs": [
        {
          "output_type": "stream",
          "name": "stdout",
          "text": [
            "piedra,papel o tijera = piedra\n",
            "perdiste\n",
            "el tiro de la maquina fue : papel\n",
            "Tu tiro fue papel : piedra\n"
          ]
        }
      ],
      "source": [
        "import random\n",
        "opcion=input(\"piedra,papel o tijera = \")\n",
        "opcion=opcion.lower()\n",
        "\n",
        "maquina=['piedra','papel','tijera']\n",
        "intento_maquina=random.choice(maquina)\n",
        "\n",
        "if intento_maquina==opcion:\n",
        " print(\"empate\")\n",
        "\n",
        "elif intento_maquina==\"papel\" and opcion==\"tijera\":\n",
        " print(\"ganaste\")\n",
        "\n",
        "elif intento_maquina==\"tijera\" and opcion==\"papel\":\n",
        " print(\"perdiste\")\n",
        "\n",
        "elif intento_maquina==\"tijera\" and opcion==\"piedra\":\n",
        " print(\"ganaste\")\n",
        "\n",
        "elif intento_maquina=='piedra' and opcion==\"tijera\":\n",
        " print(\"perdiste\")\n",
        "\n",
        "elif intento_maquina==\"papel\" and opcion==\"piedra\":\n",
        " print(\"perdiste\")\n",
        "\n",
        "elif intento_maquina==\"piedra\" and opcion==\"papel\":\n",
        " print(\"ganaste\")\n",
        "\n",
        "else:\n",
        " print(\"vuelve y juega\")\n",
        "\n",
        "print(\"el tiro de la maquina fue :\" , intento_maquina)\n",
        "print(\"Tu tiro fue papel :\", opcion)"
      ]
    },
    {
      "cell_type": "code",
      "source": [],
      "metadata": {
        "id": "jmfDW71tsUrj"
      },
      "execution_count": null,
      "outputs": []
    }
  ]
}